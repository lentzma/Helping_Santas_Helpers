{
 "metadata": {
  "name": "",
  "signature": "sha256:20b65142b4aa5213c06f3d2fb3af83c35b8a72bf4bee6ba79abfd296c9339a19"
 },
 "nbformat": 3,
 "nbformat_minor": 0,
 "worksheets": [
  {
   "cells": [
    {
     "cell_type": "heading",
     "level": 3,
     "metadata": {},
     "source": [
      "Kaggle Competition - Helping Santas Helpers"
     ]
    },
    {
     "cell_type": "markdown",
     "metadata": {},
     "source": [
      "By: Matt Lentz"
     ]
    },
    {
     "cell_type": "code",
     "collapsed": false,
     "input": [
      "import pandas as pd\n",
      "import numpy as np"
     ],
     "language": "python",
     "metadata": {},
     "outputs": []
    },
    {
     "cell_type": "markdown",
     "metadata": {},
     "source": [
      "Problem Description\n",
      "\n",
      "In this job scheduling problem, you will assign which elves work on which toys, at what time, and for how long. The goal is to complete all of the toys as early as possible, scaled by the natural log of the number of elves that work. Thus the objective S is\n",
      "\n",
      "S=tf\u2217log(1+ne)\n",
      "where\n",
      "\n",
      "tf is the last minute the final toy is complete, from reference date Jan 1, 2014 at 12:00 AM\n",
      "ne is the number of unique elves that were needed to build the toys\n",
      "Toys\n",
      "\n",
      "There are 10 million toys that will need to be built by the elves. Each toy is described by an id, the time the order for the toy arrives in Santa's workshop, and the amount of time it takes to build the toy. \n",
      "\n",
      "Work on toys cannot start before the order comes in but can start any time after it comes in. Once work on a toy starts, it must continue until the toy is complete, and it must be performed by only one elf. As a result, an elf cannot start work one day, stop, and then resume the next morning, or have a different elf resume the work.\n",
      "\n",
      "All toys must be completely built for the submission to be valid. Submissions with incomplete toys or where work starts too soon or too late will result in an invalid scoring exception.\n",
      "\n",
      "Working Conditions\n",
      "\n",
      "Santa's Workshop opens for the year on January 1, 2014 at 9:00 am North Pole Time. Sanctioned elf working hours are every day, 7 days a week, from 9:00 to 19:00 (10 hours per day). Work outside of these hours are unsanctioned and penalized.\n",
      "\n",
      "Every minute worked during unsanctioned hours must be compensated with a rest period of equivalent time during sanctioned hours. If an elf works from 14:00-19:33, the next time he can work is the following day at 9:33. Thus 33 minutes overtime results in 33 minutes rest time. Submissions that have elves returning to work before the appropriate amount of rest time has passed will result in an invalid scoring exception. An elf with no accrued resting period may start work at any time.\n",
      "\n",
      "Elves\n",
      "\n",
      "There are 900 elves in Santa's Workshop. Each elf is described by\n",
      "\n",
      "id: an integer from 1 to 900\n",
      "productivity rating: a double ranging from 0.25 to 4.0, with starting value 1.0\n",
      "An elf's productivity rating determines how efficiently he builds a toy. A productivity rating of 1.0 means a 120-min toy takes 120 minutes to build. A 1.25-rating means a 120-min toy takes him only 120-min/1.25 = 96 minutes to build. Minimum and maximum values for the productivity rating are 0.25 and 4.0, respectively. All elves start the year with a productivity rating of 1.0.\n",
      "\n",
      "An elf\u2019s productivity rating changes as he completes toys. Ratings are held constant during the building of a toy and updated once the toy is complete. The rating is calculated per the required time for a toy, not per the time he spends on a toy. The time used in the productivity calculation will be toy_duration/elf_starting_productivity, e.g.: a 0.5-elf working on a 120-min toy uses 240 minutes in his productivity calculation. If a 1.0-rated elf is assigned to work on a 120-min toy for 180 minutes, his productivity rating will only take into account the 120 minutes of needed work. For each hour worked outside of the sanctioned hours, the rest period will apply (see Working Conditions described above). \n",
      "\n",
      "For every hour worked on actively building a toy during sanctioned work hours, an elf's productivity increases as\n",
      "\n",
      "p=p\u2032\u2217(1.02)n\n",
      "where p is the updated productivity, p' is the previous productivity, and n is the number of hours (not minutes, can be a decimal value) worked that contributed to the building of the toy.\n",
      "\n",
      "Work performed during unsanctioned hours decrease an elf's productivity:\n",
      "\n",
      "p=p\u2032\u2217(0.9)m\n",
      "where m is the number of hours (not minutes, can be a decimal value) worked that contributed to the building of the toy.\n",
      "\n",
      "In practice, the productivity is updated in a single step once work is over as\n",
      "\n",
      "p=p\u2032\u2217(1.02)n\u2217(0.9)m"
     ]
    },
    {
     "cell_type": "heading",
     "level": 3,
     "metadata": {},
     "source": [
      "Data and Modules"
     ]
    },
    {
     "cell_type": "code",
     "collapsed": false,
     "input": [
      "#Import the modules and data\n",
      "import pandas as pd\n",
      "import numpy as np\n",
      "import matplotlib.pyplot as plt\n",
      "import datetime\n",
      "data = pd.read_csv('C:\\Users\\Matt\\SkyDrive\\Documents\\Kaggle\\Santa/toys_rev2.csv')\n",
      "data['Arrival_time'] = pd.to_datetime(data['Arrival_time'],format='%Y %m %d %H %M')\n",
      "data.head()"
     ],
     "language": "python",
     "metadata": {},
     "outputs": []
    },
    {
     "cell_type": "heading",
     "level": 3,
     "metadata": {},
     "source": [
      "Reset Everything"
     ]
    },
    {
     "cell_type": "code",
     "collapsed": false,
     "input": [
      "#Reset all tables, elfs, and time\n",
      "start = datetime.datetime(2014,1,1)\n",
      "now = start\n",
      "end = datetime.datetime(2014,12,25)\n",
      "#Present Queue Table\n",
      "present_queue = pd.DataFrame(columns=['ToyId','Duration'])\n",
      "#Elf Queue Table and elves\n",
      "elf_queue = pd.DataFrame(columns=['Elfid','Rating'])\n",
      "elf_dict = {}\n",
      "for i in range(900):\n",
      "    elf_dict['Elfid'] = i+1\n",
      "    elf_dict['Rating'] = 1\n",
      "    elf_queue = elf_queue.append(elf_dict,ignore_index=True)\n",
      "#Active Queue table\n",
      "active_queue = pd.DataFrame(columns=['ToyId','StartTime','Elfid','Rating','Time Remaining','Work Hours','Non-Work Hours'])\n",
      "#Sick Bay Table\n",
      "sick_bay = pd.DataFrame(columns=['Elfid','Rating','Time Remaining'])\n",
      "sick_bay.head()\n",
      "#Completed Presents\n",
      "completed_presents = pd.DataFrame(columns=['ToyId','Elfid','StartTime','Duration'])"
     ],
     "language": "python",
     "metadata": {},
     "outputs": []
    },
    {
     "cell_type": "heading",
     "level": 3,
     "metadata": {},
     "source": [
      "Final Code"
     ]
    },
    {
     "cell_type": "code",
     "collapsed": false,
     "input": [
      "while now < end:\n",
      "    \n",
      "    #Presents become active\n",
      "    active_now = data[data['Arrival_time'] == now]\n",
      "    present_queue = present_queue.append(active_now[['ToyId','Duration']])\n",
      "    present_queue = present_queue.sort('Duration',ascending=False).reset_index(drop=True)\n",
      "    \n",
      "    #Removes a minute of time\n",
      "    if len(active_queue)>0:\n",
      "        active_queue['Time Remaining'] = active_queue['Time Remaining'] - 1\n",
      "        active_queue = active_queue.sort('Time Remaining',ascending=True).reset_index(drop=True)\n",
      "\n",
      "    #Sanctioned Hours\n",
      "    if 9 <= now.hour < 19:\n",
      "        \n",
      "        #Reduce Sick Bay Time\n",
      "        sick_bay['Time Remaining'] = sick_bay['Time Remaining'] - 1\n",
      "        #Remove Finished Elfs from Sick Bay\n",
      "        not_sick = sick_bay[sick_bay['Time Remaining'] == 0]\n",
      "        sick_bay = sick_bay[sick_bay['Time Remaining']!=0]\n",
      "        elf_queue = elf_queue.append(not_sick[['Elfid','Rating']])\n",
      "        elf_queue = elf_queue.sort('Rating',ascending=False).reset_index(drop = True)\n",
      "        \n",
      "        \n",
      "        if len(active_queue)>0:\n",
      "            active_queue['Work Hours'] = active_queue['Work Hours'] + 1\n",
      "            \n",
      "            \n",
      "        #Get the elfs working on toys\n",
      "        #Move elfs from elf_queue and presents from the presents queue to the active queue\n",
      "        if len(elf_queue) > 0:\n",
      "            elf_queue = elf_queue.sort('Rating',ascending=False).reset_index(drop=True)\n",
      "            active_prep = present_queue.ix[0:len(elf_queue)-1].join(elf_queue)\n",
      "            active_prep['Duration'] = active_prep['Duration'] / active_prep['Rating']\n",
      "            active_prep['StartTime'] = now\n",
      "            active_prep['Time Remaining'] = active_prep['Duration']\n",
      "            active_prep['Work Hours'] = 0\n",
      "            active_prep['Non-Work Hours'] = 0\n",
      "            active_queue = active_queue.append(active_prep)\n",
      "            elf_queue = elf_queue.drop(elf_queue.index[0:len(active_prep)])\n",
      "            elf_queue = elf_queue.reset_index(drop=True)\n",
      "            present_queue = present_queue.drop(present_queue.index[0:len(active_prep)])\n",
      "            present_queue = present_queue.reset_index(drop=True)\n",
      "            \n",
      "            \n",
      "    #Non-Sanctioned Hours\n",
      "    else:\n",
      "        if len(active_queue)>0:\n",
      "            active_queue['Non-Work Hours'] = active_queue['Non-Work Hours'] + 1\n",
      "        \n",
      "    #Happens Regardless of Sanctioned vs Unsanctioned\n",
      "    \n",
      "    \n",
      "    #Finished Presents\n",
      "    finished_present = active_queue[active_queue['Time Remaining']<=0]\n",
      "    if len(finished_present)>0:\n",
      "        active_queue = active_queue[active_queue['Time Remaining']>0]\n",
      "        finished_present = finished_present.reset_index(drop=True)\n",
      "        #Rating Change\n",
      "        finished_present['Rating_multiplier'] = (0.9**finished_present['Non-Work Hours'])*(1.02**finished_present['Work Hours'])\n",
      "        finished_present['Rating'] = finished_present['Rating']*finished_present['Rating_multiplier']\n",
      "        finished_present['Rating'] = finished_present['Rating'].astype('float')\n",
      "        finished_present['Rating'] = finished_present['Rating'].apply(lambda x: max(.25,min(4.0,x)))\n",
      "        completed_presents = completed_presents.append(finished_present[['ToyId','Elfid','StartTime','Duration']])\n",
      "        #Elfs go to sick bay\n",
      "        finished_present = finished_present.sort('Non-Work Hours',ascending=False).reset_index(drop=True)\n",
      "        sick_bay_prep = finished_present[finished_present['Non-Work Hours']>0]\n",
      "        finished_present = finished_present.drop(finished_present.index[0:len(sick_bay_prep)])\n",
      "        sick_bay_prep['Time Remaining'] = sick_bay_prep['Non-Work Hours']\n",
      "        sick_bay = sick_bay.append(sick_bay_prep[['Elfid','Rating','Time Remaining']])\n",
      "        #Return non-sick elfs to the elf queue\n",
      "        elf_queue = elf_queue.append(finished_present[['Elfid','Rating']])\n",
      "        elf_queue = elf_queue.sort('Rating',ascending=False).reset_index(drop=True)\n",
      "    else:\n",
      "        pass\n",
      "    now = now + datetime.timedelta(minutes=1)\n",
      "\n",
      "completed_presents = completed_presents.sort('ToyId',ascending=True).reset_index(drop=True)\n",
      "completed_presents['Duration'] = np.ceil(completed_presents['Duration'])\n",
      "completed_presents['StartTime'] = completed_presents['StartTime'].apply(lambda x: '%s %s %s %s %s'%(x.year,x.month,x.day,x.hour,x.minute))\n",
      "completed_presents.to_csv('C:\\Users\\Matt\\SkyDrive\\Documents\\Kaggle\\Santa/submission_ml.csv',index=False)"
     ],
     "language": "python",
     "metadata": {},
     "outputs": []
    },
    {
     "cell_type": "code",
     "collapsed": false,
     "input": [
      "completed_presents"
     ],
     "language": "python",
     "metadata": {},
     "outputs": []
    }
   ],
   "metadata": {}
  }
 ]
}